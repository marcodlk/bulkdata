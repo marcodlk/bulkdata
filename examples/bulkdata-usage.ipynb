{
 "cells": [
  {
   "cell_type": "markdown",
   "metadata": {},
   "source": [
    "# `bulkdata` Usage"
   ]
  },
  {
   "cell_type": "markdown",
   "metadata": {},
   "source": [
    "The `bulkdata` package loads BDF files into memory as `Deck` objects,\n",
    "which are collections of `Card` objects. This notebook will\n",
    "demonstrate how to create, modify, and utilize these objects."
   ]
  },
  {
   "cell_type": "markdown",
   "metadata": {},
   "source": [
    "## Card\n",
    "### Build card\n",
    "First, let's initialize a `Card` object with name \"EXAMPLE\"."
   ]
  },
  {
   "cell_type": "code",
   "execution_count": 1,
   "metadata": {},
   "outputs": [],
   "source": [
    "from bulkdata import Card\n",
    "\n",
    "card = Card(\"EXAMPLE\")"
   ]
  },
  {
   "cell_type": "markdown",
   "metadata": {},
   "source": [
    "At this point, the card only has a name and no fields. If we dump the card to its string representation in _fixed_ format with `dumps`, we get:"
   ]
  },
  {
   "cell_type": "code",
   "execution_count": 2,
   "metadata": {},
   "outputs": [
    {
     "name": "stdout",
     "output_type": "stream",
     "text": [
      "EXAMPLE\n",
      "\n"
     ]
    }
   ],
   "source": [
    "print(card.dumps(\"fixed\"))"
   ]
  },
  {
   "cell_type": "markdown",
   "metadata": {},
   "source": [
    "That's not very useful, let's enter some fields into the card."
   ]
  },
  {
   "cell_type": "code",
   "execution_count": 3,
   "metadata": {},
   "outputs": [],
   "source": [
    "# append integer field\n",
    "card.append(100)\n",
    "\n",
    "# append real field\n",
    "card.append(3.14)\n",
    "\n",
    "# append character field\n",
    "card.append(\"string\")"
   ]
  },
  {
   "cell_type": "markdown",
   "metadata": {},
   "source": [
    "Now if we look at the card's string representation we see:"
   ]
  },
  {
   "cell_type": "code",
   "execution_count": 4,
   "metadata": {},
   "outputs": [
    {
     "name": "stdout",
     "output_type": "stream",
     "text": [
      "EXAMPLE 100     3.14    string\n",
      "\n"
     ]
    }
   ],
   "source": [
    "print(card.dumps(\"fixed\"))"
   ]
  },
  {
   "cell_type": "markdown",
   "metadata": {},
   "source": [
    "We can also enter blank fields."
   ]
  },
  {
   "cell_type": "code",
   "execution_count": 5,
   "metadata": {},
   "outputs": [
    {
     "name": "stdout",
     "output_type": "stream",
     "text": [
      "EXAMPLE 100     3.14    string\n",
      "\n"
     ]
    }
   ],
   "source": [
    "# append a blank field using None\n",
    "card.append(None)\n",
    "\n",
    "# append a blank field using null string\n",
    "card.append(\"\")\n",
    "\n",
    "# trailing blank fields are ingored during `dumps` call, \n",
    "# so printing the card here yields the same result as the\n",
    "# previous print\n",
    "print(card.dumps(\"fixed\"))"
   ]
  },
  {
   "cell_type": "markdown",
   "metadata": {},
   "source": [
    "Using the `append` method, we entered one field at a time. But what if we want to enter a list of fields? This is done with the `extend` method:"
   ]
  },
  {
   "cell_type": "code",
   "execution_count": 6,
   "metadata": {},
   "outputs": [
    {
     "name": "stdout",
     "output_type": "stream",
     "text": [
      "EXAMPLE 100     3.14    string                  0       1       2       +0      \n",
      "+0      3       4\n",
      "\n"
     ]
    }
   ],
   "source": [
    "# append a list of integer fields\n",
    "card.extend([0, 1, 2, 3, 4])\n",
    "\n",
    "# NOTE: blank fields are there\n",
    "print(card.dumps(\"fixed\"))"
   ]
  },
  {
   "cell_type": "markdown",
   "metadata": {},
   "source": [
    "Sometimes, field entries span across two fields to allow more characters (this is particularly common in __ZAERO__, where the _Large Field_ format doesn't exist). Since it's technically a single entry, we use the `append` method to do this while specifying the need for 2 fields, instead of the default 1."
   ]
  },
  {
   "cell_type": "code",
   "execution_count": 7,
   "metadata": {},
   "outputs": [
    {
     "name": "stdout",
     "output_type": "stream",
     "text": [
      "EXAMPLE 100     3.14    string                  0       1       2       +0      \n",
      "+0      3       4       thisislongstring\n",
      "\n"
     ]
    }
   ],
   "source": [
    "# append a character field spanning 2 field cells\n",
    "card.append(\"thisislongstring\", fieldspan=2)\n",
    "\n",
    "print(card.dumps(\"fixed\"))"
   ]
  },
  {
   "cell_type": "markdown",
   "metadata": {},
   "source": [
    "There are also times when two lists of field entries have alternating positions in the card. In this case, the easiest way to enter the fields is with a little help from the builtin `zip` function."
   ]
  },
  {
   "cell_type": "code",
   "execution_count": 8,
   "metadata": {},
   "outputs": [
    {
     "name": "stdout",
     "output_type": "stream",
     "text": [
      "EXAMPLE 100     3.14    string                  0       1       2       +0      \n",
      "+0      3       4       thisislongstring42      one     -10.+9  two     +1      \n",
      "+1      10000000three   -1.-10  four\n",
      "\n"
     ]
    }
   ],
   "source": [
    "# append two field lists, alternating\n",
    "numbers = [42, -9.99999e9, 10000000, -.0000000001]\n",
    "strings = [\"one\", \"two\", \"three\", \"four\"]\n",
    "for number, string in zip(numbers, strings):\n",
    "    card.append(number)\n",
    "    card.append(string)\n",
    "\n",
    "print(card.dumps(\"fixed\"))"
   ]
  },
  {
   "cell_type": "markdown",
   "metadata": {},
   "source": [
    "And if each field entry spans across two fields:"
   ]
  },
  {
   "cell_type": "code",
   "execution_count": 9,
   "metadata": {},
   "outputs": [
    {
     "name": "stdout",
     "output_type": "stream",
     "text": [
      "EXAMPLE 100     3.14    string                  0       1       2       +0      \n",
      "+0      3       4       thisislongstring42      one     -10.+9  two     +1      \n",
      "+1      10000000three   -1.-10  four    123456789       helloworld\n",
      "\n"
     ]
    }
   ],
   "source": [
    "for longstring in [\"123456789\", \"helloworld\"]:\n",
    "    card.append(longstring, fieldspan=2)\n",
    "\n",
    "print(card.dumps(\"fixed\"))"
   ]
  },
  {
   "cell_type": "markdown",
   "metadata": {},
   "source": [
    "By the way, we can also get the card's _free_ format representation:"
   ]
  },
  {
   "cell_type": "code",
   "execution_count": 10,
   "metadata": {},
   "outputs": [
    {
     "name": "stdout",
     "output_type": "stream",
     "text": [
      "EXAMPLE,100,3.14,string, , ,0,1,2,+0\n",
      "+0,3,4,thisislo,ngstring,42,one,-10.+9,two,+1\n",
      "+1,10000000,three,-1.-10,four,12345678,9,hellowor,ld\n",
      "\n"
     ]
    }
   ],
   "source": [
    "print(card.dumps(\"free\"))"
   ]
  },
  {
   "cell_type": "markdown",
   "metadata": {},
   "source": [
    "Printing the card object uses the `dumps` method, which defaults to _fixed_ format if no format argument is provided."
   ]
  },
  {
   "cell_type": "code",
   "execution_count": 11,
   "metadata": {},
   "outputs": [
    {
     "name": "stdout",
     "output_type": "stream",
     "text": [
      "EXAMPLE 100     3.14    string                  0       1       2       +0      \n",
      "+0      3       4       thisislongstring42      one     -10.+9  two     +1      \n",
      "+1      10000000three   -1.-10  four    123456789       helloworld\n",
      "\n"
     ]
    }
   ],
   "source": [
    "# these are all analogous\n",
    "\n",
    "# print(card.dumps(\"fixed\"))\n",
    "# print(card.dumps())\n",
    "print(card)"
   ]
  },
  {
   "cell_type": "markdown",
   "metadata": {},
   "source": [
    "### Modify card"
   ]
  },
  {
   "cell_type": "markdown",
   "metadata": {},
   "source": [
    "One of the main benefits of `bulkdata` is the ability to edit existing cards, agnostic to card field specifications and/or how the card was built.\n",
    "\n",
    "Let's make some edits to the card we created to demonstrate what we mean. First, a simple edit to the first field of the card."
   ]
  },
  {
   "cell_type": "code",
   "execution_count": 12,
   "metadata": {},
   "outputs": [
    {
     "name": "stdout",
     "output_type": "stream",
     "text": [
      "First field current: 100\n",
      "First field set to 99: 99\n",
      "First field increment by 100: 199\n"
     ]
    }
   ],
   "source": [
    "# set first field value to 99\n",
    "print(\"First field current:\", card[0])\n",
    "\n",
    "card[0] = 99\n",
    "\n",
    "print(\"First field set to 99:\", card[0])\n",
    "\n",
    "# increment first field value by 100\n",
    "card[0] += 100\n",
    "\n",
    "print(\"First field increment by 100:\", card[0])"
   ]
  },
  {
   "cell_type": "markdown",
   "metadata": {},
   "source": [
    "Now let's update the two blank fields we set earlier to contain a character entry spanning two fields."
   ]
  },
  {
   "cell_type": "code",
   "execution_count": 13,
   "metadata": {},
   "outputs": [
    {
     "name": "stdout",
     "output_type": "stream",
     "text": [
      "Blank fields: ['', '']\n",
      "One field no longer blank: ['newstr', '']\n",
      "Both fields no longer blank: ['newlongs', 'tring']\n"
     ]
    }
   ],
   "source": [
    "# the blank fields are at index 3 and 4\n",
    "print(\"Blank fields:\", card[[3, 4]])\n",
    "\n",
    "card[[3, 4]] = \"newstr\"\n",
    "\n",
    "print(\"One field no longer blank:\", card[[3, 4]])\n",
    "\n",
    "card[[3, 4]] = \"newlongstring\"\n",
    "\n",
    "print(\"Both fields no longer blank:\", card[[3, 4]])"
   ]
  },
  {
   "cell_type": "markdown",
   "metadata": {},
   "source": [
    "Note that when we specify several indexes during the set operation, every field at that index will be cleared to make way for the new value; if the new field value does not cover every field, the leftover fields will remain blank after the set. In the first set above, the \"newstr\" did not required two fields, but because we specified that both index 3 and 4 fields were being set, the second field (at index 4) remained blank after.\n",
    "\n",
    "This should make clear that the way fields are entered does not matter, internally the card maintains a value for each field cell. The `Card` object handles the conversion of field inputs to the appropriate field cells according to the specified operation.\n",
    "\n",
    "Let's do a similar operation but with a list of new field values and indexing the set operation with slice syntax."
   ]
  },
  {
   "cell_type": "code",
   "execution_count": 14,
   "metadata": {},
   "outputs": [
    {
     "name": "stdout",
     "output_type": "stream",
     "text": [
      "Fields to overwrite: ['thisislo', 'ngstring', 42, 'one', -10000000000.0, 'two']\n",
      "Fields after set: [5, 6, 7, 8, 9, '']\n"
     ]
    }
   ],
   "source": [
    "# we will overwrite the fields from index 10 to 16 (excluding 16)\n",
    "print(\"Fields to overwrite:\", card[10:16])\n",
    "\n",
    "card[10:16] = [5, 6, 7, 8, 9]\n",
    "\n",
    "print(\"Fields after set:\", card[10:16])"
   ]
  },
  {
   "cell_type": "markdown",
   "metadata": {},
   "source": [
    "To remove fields, we can use the `pop` method the remove the last field..."
   ]
  },
  {
   "cell_type": "code",
   "execution_count": 15,
   "metadata": {},
   "outputs": [
    {
     "name": "stdout",
     "output_type": "stream",
     "text": [
      "Last line before pop: [10000000, 'three', -1e-10, 'four', 12345678, 9, 'hellowor', 'ld']\n",
      "Popped field: ld\n",
      "Last line after pop: [10000000, 'three', -1e-10, 'four', 12345678, 9, 'hellowor']\n"
     ]
    }
   ],
   "source": [
    "print(\"Last line before pop:\", card[16:])\n",
    "\n",
    "popped_field = card.pop()\n",
    "\n",
    "print(\"Popped field:\", popped_field)\n",
    "print(\"Last line after pop:\", card[16:])"
   ]
  },
  {
   "cell_type": "markdown",
   "metadata": {},
   "source": [
    "... or `del` to remove at specified index(s)..."
   ]
  },
  {
   "cell_type": "code",
   "execution_count": 16,
   "metadata": {},
   "outputs": [
    {
     "name": "stdout",
     "output_type": "stream",
     "text": [
      "Last line after delete first: ['three', -1e-10, 'four', 12345678, 9, 'hellowor']\n",
      "Last line after delete remaining first & second: ['four', 12345678, 9, 'hellowor']\n"
     ]
    }
   ],
   "source": [
    "# delete first item of last (3rd) line\n",
    "del card[16]\n",
    "\n",
    "print(\"Last line after delete first:\", card[16:])\n",
    "\n",
    "# delete remaining first two items of last line\n",
    "del card[16:18]\n",
    "\n",
    "print(\"Last line after delete remaining first & second:\", card[16:])"
   ]
  },
  {
   "cell_type": "markdown",
   "metadata": {},
   "source": [
    "... or `resize`, which removes fields (or appends blank fields) until the specified size is reached."
   ]
  },
  {
   "cell_type": "code",
   "execution_count": 17,
   "metadata": {},
   "outputs": [
    {
     "name": "stdout",
     "output_type": "stream",
     "text": [
      "Last line after resize: []\n",
      "Number of fields: 16\n"
     ]
    }
   ],
   "source": [
    "card.resize(16)\n",
    "\n",
    "print(\"Last line after resize:\", card[16:])\n",
    "print(\"Number of fields:\", len(card))"
   ]
  },
  {
   "cell_type": "markdown",
   "metadata": {},
   "source": [
    "After these modifications, we can see that the card has been updated:"
   ]
  },
  {
   "cell_type": "code",
   "execution_count": 18,
   "metadata": {},
   "outputs": [
    {
     "name": "stdout",
     "output_type": "stream",
     "text": [
      "EXAMPLE 199     3.14    string  newlongstring   0       1       2       +0      \n",
      "+0      3       4       5       6       7       8       9\n",
      "\n"
     ]
    }
   ],
   "source": [
    "print(card)"
   ]
  },
  {
   "cell_type": "markdown",
   "metadata": {},
   "source": [
    "### Alternate way of building a card\n",
    "\n",
    "If we have an idea of how many fields we need, we can alternatively initialize the card with a specified number of blank fields and then overwrite the fields with set operations, instead of using `append` and/or `extend`."
   ]
  },
  {
   "cell_type": "code",
   "execution_count": 19,
   "metadata": {},
   "outputs": [
    {
     "name": "stdout",
     "output_type": "stream",
     "text": [
      "100\n"
     ]
    }
   ],
   "source": [
    "# if we don't know the exact number of fields, \n",
    "# we can overestimate for now and remove the excess later\n",
    "numfields = 100\n",
    "card = Card(\"EXAMPLE\", size=numfields)\n",
    "\n",
    "# indeed, our card has 100 fields\n",
    "print(len(card))"
   ]
  },
  {
   "cell_type": "markdown",
   "metadata": {},
   "source": [
    "Let's make this card just like the one from the __Build card__ section"
   ]
  },
  {
   "cell_type": "code",
   "execution_count": 20,
   "metadata": {},
   "outputs": [
    {
     "name": "stdout",
     "output_type": "stream",
     "text": [
      "Number of fields before strip: 100\n",
      "Number of fields after strip: 24\n"
     ]
    }
   ],
   "source": [
    "# set integer field\n",
    "card[0] = 100\n",
    "\n",
    "# set real field\n",
    "card[1] = 3.14\n",
    "\n",
    "# set character field\n",
    "card[2] = \"string\"\n",
    "\n",
    "# # set blank field using None\n",
    "# card[3] = None\n",
    "\n",
    "# # set blank field using null string\n",
    "# card[4] = \"\"\n",
    "\n",
    "# ^ that would be redundant, fields are already blank\n",
    "\n",
    "# set list of integer fields\n",
    "card[5:10] = [0, 1, 2, 3, 4]\n",
    "\n",
    "# set character field spanning 2 field cells\n",
    "card[10:12] = \"thisislongstring\"\n",
    "\n",
    "# set two field lists, alternating\n",
    "numbers = [42, -9.99999e9, 10000000, -.0000000001]\n",
    "strings = [\"one\", \"two\", \"three\", \"four\"]\n",
    "card[12:20:2] = numbers\n",
    "card[13:20:2] = strings\n",
    "\n",
    "# set field list with fields spanning 2 field cells\n",
    "for i, longstring in enumerate([\"123456789\", \"helloworld\"]):\n",
    "    i0 = 20 + 2*i\n",
    "    i1 = i0 + 2\n",
    "    card[i0:i1] = longstring\n",
    "\n",
    "# remove the trailing blank fields\n",
    "print(\"Number of fields before strip:\", len(card))\n",
    "card.strip()\n",
    "print(\"Number of fields after strip:\", len(card))"
   ]
  },
  {
   "cell_type": "markdown",
   "metadata": {},
   "source": [
    "The string representation of the card should look familar."
   ]
  },
  {
   "cell_type": "code",
   "execution_count": 21,
   "metadata": {},
   "outputs": [
    {
     "name": "stdout",
     "output_type": "stream",
     "text": [
      "EXAMPLE 100     3.14    string                  0       1       2       +0      \n",
      "+0      3       4       thisislongstring42      one     -10.+9  two     +1      \n",
      "+1      10000000three   -1.-10  four    123456789       helloworld\n",
      "\n"
     ]
    }
   ],
   "source": [
    "print(card)"
   ]
  },
  {
   "cell_type": "markdown",
   "metadata": {},
   "source": [
    "For more information on the `Card` class, check out the API documentation."
   ]
  },
  {
   "cell_type": "markdown",
   "metadata": {},
   "source": [
    "## Deck\n",
    "\n",
    "The main utility of `bulkdata` is the ability to load an entire BDF file into memory and update it with minimal effort, agnostic to any specifications of the included cards. For this purpose, we use the `Deck` class.\n",
    "\n",
    "### Build deck\n",
    "\n",
    "Let's initialize a `Deck` object and add some cards."
   ]
  },
  {
   "cell_type": "code",
   "execution_count": 22,
   "metadata": {},
   "outputs": [],
   "source": [
    "from bulkdata import Deck\n",
    "\n",
    "deck = Deck()\n",
    "\n",
    "# add slight variations of the original card we created in the above section\n",
    "orig_card_str = card.dumps()\n",
    "for i in range(8):\n",
    "    # load new card from original card string\n",
    "    card_var = Card.loads(orig_card_str)\n",
    "    # just first line\n",
    "    card_var.resize(8)\n",
    "    # change name\n",
    "    card_var.name = \"EXAMPL\" + str(i)\n",
    "    # change first field\n",
    "    card_var[0] += 1\n",
    "    # change field i\n",
    "    card_var[i] = \"EDITED\"\n",
    "    deck.append(card_var)\n"
   ]
  },
  {
   "cell_type": "markdown",
   "metadata": {},
   "source": [
    "The `dumps` method returns the deck's string representation, which is the concatenation of its cards' string representations.\n",
    "\n",
    "Just like the `Card` class, printing the `Deck` object uses the `dumps` method, which defaults to _fixed_ format if no format argument is provided."
   ]
  },
  {
   "cell_type": "code",
   "execution_count": 23,
   "metadata": {},
   "outputs": [
    {
     "name": "stdout",
     "output_type": "stream",
     "text": [
      "EXAMPL0 EDITED  3.14    string                  0       1       2\n",
      "EXAMPL1 101     EDITED  string                  0       1       2\n",
      "EXAMPL2 101     3.14    EDITED                  0       1       2\n",
      "EXAMPL3 101     3.14    string  EDITED          0       1       2\n",
      "EXAMPL4 101     3.14    string          EDITED  0       1       2\n",
      "EXAMPL5 101     3.14    string                  EDITED  1       2\n",
      "EXAMPL6 101     3.14    string                  0       EDITED  2\n",
      "EXAMPL7 101     3.14    string                  0       1       EDITED\n",
      "\n"
     ]
    }
   ],
   "source": [
    "# these are all analogous\n",
    "\n",
    "# print(deck.dumps(\"fixed\"))\n",
    "# print(deck.dumps())\n",
    "print(deck)"
   ]
  },
  {
   "cell_type": "markdown",
   "metadata": {},
   "source": [
    "And we can also specify the _free_ format."
   ]
  },
  {
   "cell_type": "code",
   "execution_count": 24,
   "metadata": {
    "scrolled": true
   },
   "outputs": [
    {
     "name": "stdout",
     "output_type": "stream",
     "text": [
      "EXAMPL0,EDITED,3.14,string, , ,0,1,2\n",
      "EXAMPL1,101,EDITED,string, , ,0,1,2\n",
      "EXAMPL2,101,3.14,EDITED, , ,0,1,2\n",
      "EXAMPL3,101,3.14,string,EDITED, ,0,1,2\n",
      "EXAMPL4,101,3.14,string, ,EDITED,0,1,2\n",
      "EXAMPL5,101,3.14,string, , ,EDITED,1,2\n",
      "EXAMPL6,101,3.14,string, , ,0,EDITED,2\n",
      "EXAMPL7,101,3.14,string, , ,0,1,EDITED\n",
      "\n"
     ]
    }
   ],
   "source": [
    "print(deck.dumps(\"free\"))"
   ]
  },
  {
   "cell_type": "markdown",
   "metadata": {},
   "source": [
    "### Load deck\n",
    "\n",
    "The driving motivation for this package is to provide the ability to load a BDF file, generated by some external program or process, and update its contents with minimal effort. To do this, we use the `load` classmethod to load the contents of a file object into a `Deck` object."
   ]
  },
  {
   "cell_type": "code",
   "execution_count": 25,
   "metadata": {},
   "outputs": [
    {
     "name": "stdout",
     "output_type": "stream",
     "text": [
      "Number of cards: 143\n"
     ]
    }
   ],
   "source": [
    "# the \"usage-example.bdf\" file is adapted from the pyNastran \"testA.bdf\" file found here:\n",
    "# https://github.com/SteveDoyle2/pyNastran/blob/master/pyNastran/bdf/test/unit/testA.bdf\n",
    "#\n",
    "# please keep in mind that the original \"testA.bdf\" was created for testing purposes and\n",
    "# therefore contains some \"rubbish\" cards (as does \"usage-example.bdf\")\n",
    "bdf_filename = \"usage-example.bdf\"\n",
    "\n",
    "with open(bdf_filename) as bdf_file:\n",
    "    deck = Deck.load(bdf_file)\n",
    "    \n",
    "print(\"Number of cards:\", len(deck))"
   ]
  },
  {
   "cell_type": "markdown",
   "metadata": {},
   "source": [
    "### Update deck\n",
    "\n",
    "The BDF file contains an AERO card. Let's find it."
   ]
  },
  {
   "cell_type": "code",
   "execution_count": 26,
   "metadata": {},
   "outputs": [
    {
     "name": "stdout",
     "output_type": "stream",
     "text": [
      "Number of AERO cards: 1\n",
      "AERO, , ,1.0,1.0\n",
      "\n"
     ]
    }
   ],
   "source": [
    "# get all cards with name \"AERO\"\n",
    "aero_cards = list(deck.find({\"name\": \"AERO\"}))\n",
    "\n",
    "print(\"Number of AERO cards:\", len(aero_cards))\n",
    "\n",
    "aero_card = aero_cards[0]\n",
    "\n",
    "print(aero_card.dumps(\"free\"))"
   ]
  },
  {
   "cell_type": "markdown",
   "metadata": {},
   "source": [
    "The `find` method returns a generator object with all cards from the deck matching the _filter_ argument, in the above case `{\"name\": \"AERO\"}`. The _name_ keyword tells the deck to filter for cards matching the specified name. In this case, since we know we there is only once AERO card, we can use the `find_one` method, which returns the first matching card directly. Also, if we are only interested in filtering for the name, we can pass the name string as the _filter_ argument, as a shortcut."
   ]
  },
  {
   "cell_type": "code",
   "execution_count": 27,
   "metadata": {},
   "outputs": [],
   "source": [
    "aero_card = deck.find_one(\"AERO\")"
   ]
  },
  {
   "cell_type": "markdown",
   "metadata": {},
   "source": [
    "The AERO card is defined in the __NASTRAN__ manual as follows:\n",
    "```\n",
    "    +------+-------+----------+------+--------+-------+-------+\n",
    "    |   1  |   2   |    3     |   4  |   5    |   6   |   7   |\n",
    "    +======+=======+==========+======+========+=======+=======+\n",
    "    | AERO | ACSID | VELOCITY | REFC | RHOREF | SYMXZ | SYMXY |\n",
    "    +------+-------+----------+------+--------+-------+-------+\n",
    "    | AERO |   3   |   1.3+   | 100. |  1.-5  |   1   |  -1   |\n",
    "    +------+-------+----------+------+--------+-------+-------+\n",
    "```\n",
    " \n",
    "From this we can see that the AERO card in the deck has blank ACSID and VELOCITY entries; both REFC and RHOREF entries have a value of 1.0; and SYMXZ, SYMXY entries are missing (same as blank).\n",
    "\n",
    "Let's update it to match the example from the manual."
   ]
  },
  {
   "cell_type": "code",
   "execution_count": 28,
   "metadata": {},
   "outputs": [
    {
     "name": "stdout",
     "output_type": "stream",
     "text": [
      "AERO    3       1.3     100.    .00001  1       -1\n",
      "\n"
     ]
    }
   ],
   "source": [
    "# ACSID\n",
    "aero_card[0] = 3\n",
    "\n",
    "# VELOCITY\n",
    "aero_card[1] = 1.3\n",
    "\n",
    "# REFC\n",
    "aero_card[2] = 100.\n",
    "\n",
    "# RHOREF\n",
    "aero_card[3] = 1.0e-5\n",
    "\n",
    "# SYMXZ\n",
    "aero_card.append(1)\n",
    "\n",
    "# SYMXY\n",
    "aero_card.append(-1)\n",
    "\n",
    "# verify that it was updated in the deck\n",
    "print(deck.find_one(\"AERO\"))"
   ]
  },
  {
   "cell_type": "markdown",
   "metadata": {},
   "source": [
    "Alternatively, we can replace the card using the `replace_one` method."
   ]
  },
  {
   "cell_type": "code",
   "execution_count": 29,
   "metadata": {},
   "outputs": [
    {
     "name": "stdout",
     "output_type": "stream",
     "text": [
      "AERO    4       3.1     99.     100000. -1      1\n",
      "\n"
     ]
    }
   ],
   "source": [
    "# new AERO card\n",
    "aero_new = Card(\"AERO\")\n",
    "aero_new.extend([4, 3.1, 99., 1.0e+5, -1, 1])\n",
    "\n",
    "deck.replace_one(\"AERO\", aero_new)\n",
    "\n",
    "# verify that it was updated in the deck\n",
    "print(deck.find_one(\"AERO\"))"
   ]
  },
  {
   "cell_type": "markdown",
   "metadata": {},
   "source": [
    "In the case of AERO, there is only a single unique card. But what if we want to update several matching cards?\n",
    "\n",
    "The BDF file contains several GRID cards..."
   ]
  },
  {
   "cell_type": "code",
   "execution_count": 30,
   "metadata": {},
   "outputs": [
    {
     "name": "stdout",
     "output_type": "stream",
     "text": [
      "Number of GRID cards: 43\n"
     ]
    }
   ],
   "source": [
    "grid_cards = list(deck.find(\"GRID\"))\n",
    "\n",
    "print(\"Number of GRID cards:\", len(grid_cards))"
   ]
  },
  {
   "cell_type": "markdown",
   "metadata": {},
   "source": [
    "... 43 to be exact. Let's increment each GRID card's first field (NID entry) by 1."
   ]
  },
  {
   "cell_type": "code",
   "execution_count": 31,
   "metadata": {},
   "outputs": [
    {
     "name": "stdout",
     "output_type": "stream",
     "text": [
      "NIDs before update:\n",
      "1 4 40 41 50 60 120 121 200 1000 1003 1004 1005 1006 1008 1009 1010 1011 1012 2573 2574 2575 2576 16411 16412 16413 16414 16415 16416 16417 16418 16419 10006 10106 10206 10306 10406 10506 10606 10706 10806 12043 31201 \n",
      "\n",
      "NIDs after update:\n",
      "2 5 41 42 51 61 121 122 201 1001 1004 1005 1006 1007 1009 1010 1011 1012 1013 2574 2575 2576 2577 16412 16413 16414 16415 16416 16417 16418 16419 16420 10007 10107 10207 10307 10407 10507 10607 10707 10807 12044 31202 "
     ]
    }
   ],
   "source": [
    "print(\"NIDs before update:\")\n",
    "for card in grid_cards:\n",
    "    print(card[0], end=\" \")\n",
    "    # increment NID\n",
    "    card[0] += 1\n",
    "    \n",
    "print(\"\\n\\nNIDs after update:\")\n",
    "for card in deck.find(\"GRID\"):\n",
    "    print(card[0], end=\" \")"
   ]
  },
  {
   "cell_type": "markdown",
   "metadata": {},
   "source": [
    "### More on filtering\n",
    "\n",
    "Until this point, we have only filtered for a name, but more complex filtering is also possible.\n",
    "\n",
    "To find cards with specific field values, use the _fields_ keyword:"
   ]
  },
  {
   "cell_type": "code",
   "execution_count": 32,
   "metadata": {},
   "outputs": [
    {
     "name": "stdout",
     "output_type": "stream",
     "text": [
      "MAT1    765     3.+7\n",
      "MAT1    770     3.+7\n",
      "MAT1    795     3.+7\n",
      "MAT1    796     3.+7\n",
      "MAT1    769     3.+7\n",
      "MAT1    7       3.+7\n",
      "MAT1    8       3.+7\n",
      "MAT1    10      3.+7\n",
      "MAT1    200     3.+7\n",
      "MAT1    2       3.+7\n"
     ]
    }
   ],
   "source": [
    "filter_ = {\n",
    "    # name is MAT1\n",
    "    \"name\": \"MAT1\", \n",
    "    \n",
    "    \"fields\": {\n",
    "        \n",
    "        # second field\n",
    "        \"index\": 1,\n",
    "        \n",
    "        # with value 3.0e7\n",
    "        \"value\": 3.0e7\n",
    "    }\n",
    "}\n",
    "\n",
    "for card in deck.find(filter_):\n",
    "    print(card, end=\"\")"
   ]
  },
  {
   "cell_type": "markdown",
   "metadata": {},
   "source": [
    "To find cards containing a specific value (in any field), use the _contains_ keyword:"
   ]
  },
  {
   "cell_type": "code",
   "execution_count": 33,
   "metadata": {},
   "outputs": [
    {
     "name": "stdout",
     "output_type": "stream",
     "text": [
      "PLOAD2  13      1.      2100001 THRU    2100003\n",
      "QBDY3   34      20.             1       THRU    7       BY      2       +0      \n",
      "+0      10      THRU    40      BY      5       42      45      THRU    +1      \n",
      "+1      48\n",
      "QBDY3   500     50000.0         10      THRU    60      BY      10\n",
      "PLOAD4  510     101     5.                              THRU    112\n",
      "DDVAL   10      0.1     0.5                                             +0      \n",
      "+0      1.0     THRU    100.    BY      1.0\n",
      "ASET1   3       1       THRU    8\n",
      "ASET1   3       10      THRU    16\n",
      "SESET   0       1       THRU    10\n"
     ]
    }
   ],
   "source": [
    "filter_ = {\n",
    "    # any card containing the \"THRU\" field\n",
    "    \"contains\": \"THRU\" \n",
    "}\n",
    "\n",
    "for card in deck.find(filter_):\n",
    "    print(card, end=\"\")"
   ]
  },
  {
   "cell_type": "markdown",
   "metadata": {},
   "source": [
    "Combining the _name_, _fields_, and _contains_ filter keywords:"
   ]
  },
  {
   "cell_type": "code",
   "execution_count": 34,
   "metadata": {},
   "outputs": [
    {
     "name": "stdout",
     "output_type": "stream",
     "text": [
      "ASET1   3       1       THRU    8\n"
     ]
    }
   ],
   "source": [
    "filter_ = {\n",
    "    # name is ASET1\n",
    "    \"name\": \"ASET1\", \n",
    "    \n",
    "    \"fields\": {\n",
    "        \n",
    "        # first field\n",
    "        \"index\": 0,\n",
    "        \n",
    "        # with value 3\n",
    "        \"value\": 3\n",
    "    },\n",
    "    \n",
    "    # contains values 1 and \"THRU\"\n",
    "    \"contains\": [1, \"THRU\"] \n",
    "}\n",
    "\n",
    "for card in deck.find(filter_):\n",
    "    print(card, end=\"\")"
   ]
  },
  {
   "cell_type": "markdown",
   "metadata": {},
   "source": [
    "By the way, not providing a filter argument at all, will return all cards in the deck."
   ]
  },
  {
   "cell_type": "code",
   "execution_count": 35,
   "metadata": {},
   "outputs": [
    {
     "name": "stdout",
     "output_type": "stream",
     "text": [
      "143\n"
     ]
    }
   ],
   "source": [
    "print(len(list(deck.find())))"
   ]
  },
  {
   "cell_type": "markdown",
   "metadata": {},
   "source": [
    "### Delete cards\n",
    "\n",
    "The BDF file contains a \"JUNK\" card, let's remove it from the deck."
   ]
  },
  {
   "cell_type": "code",
   "execution_count": 36,
   "metadata": {},
   "outputs": [
    {
     "name": "stdout",
     "output_type": "stream",
     "text": [
      "Number of cards deleted: 1\n",
      "True\n"
     ]
    }
   ],
   "source": [
    "# delete all cards with name \"JUNK\"\n",
    "num_deleted = deck.delete(\"JUNK\")\n",
    "\n",
    "print(\"Number of cards deleted:\", num_deleted)\n",
    "\n",
    "# verify that all \"JUNK\" cards have been deleted\n",
    "no_junk = deck.find_one(\"JUNK\") is None\n",
    "print(no_junk)"
   ]
  },
  {
   "cell_type": "markdown",
   "metadata": {},
   "source": [
    "Just as with the `find` method, we could delete the entire deck if we (recklessly) failed to pass a filter argument. It shouldn't be necessary to demonstrate this..."
   ]
  },
  {
   "cell_type": "markdown",
   "metadata": {},
   "source": [
    "### Dump deck\n",
    "\n",
    "When we're ready to write our new and improved deck to file, we use the `dump` method."
   ]
  },
  {
   "cell_type": "code",
   "execution_count": 37,
   "metadata": {},
   "outputs": [],
   "source": [
    "with open(\"usage-example-updated.bdf\", \"w\") as bdf_file:\n",
    "    deck.dump(bdf_file)"
   ]
  },
  {
   "cell_type": "markdown",
   "metadata": {},
   "source": [
    "Just as with the `dumps` method, the output format of `dump` defaults to _fixed_ but the _free_ format may also be specified."
   ]
  },
  {
   "cell_type": "code",
   "execution_count": 38,
   "metadata": {},
   "outputs": [],
   "source": [
    "with open(\"usage-example-updated-free.bdf\", \"w\") as bdf_file:\n",
    "    deck.dump(bdf_file, format=\"free\")"
   ]
  },
  {
   "cell_type": "code",
   "execution_count": null,
   "metadata": {},
   "outputs": [],
   "source": []
  }
 ],
 "metadata": {
  "kernelspec": {
   "display_name": "Python 3",
   "language": "python",
   "name": "python3"
  },
  "language_info": {
   "codemirror_mode": {
    "name": "ipython",
    "version": 3
   },
   "file_extension": ".py",
   "mimetype": "text/x-python",
   "name": "python",
   "nbconvert_exporter": "python",
   "pygments_lexer": "ipython3",
   "version": "3.6.5"
  }
 },
 "nbformat": 4,
 "nbformat_minor": 2
}
